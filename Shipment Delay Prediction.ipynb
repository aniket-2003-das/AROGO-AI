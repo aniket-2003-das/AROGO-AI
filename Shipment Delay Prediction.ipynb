{
 "cells": [
  {
   "attachments": {},
   "cell_type": "markdown",
   "metadata": {},
   "source": [
    "# Assignment 1 Shipment Delay Prediction"
   ]
  },
  {
   "cell_type": "code",
   "execution_count": 4,
   "metadata": {},
   "outputs": [],
   "source": [
    "import pandas as pd\n",
    "import matplotlib.pyplot as plt\n",
    "import seaborn as sns\n",
    "from sklearn.model_selection import train_test_split\n",
    "from sklearn.linear_model import LogisticRegression\n",
    "from sklearn.tree import DecisionTreeClassifier\n",
    "from sklearn.ensemble import RandomForestClassifier\n",
    "from sklearn.metrics import classification_report, accuracy_score, precision_score, recall_score, f1_score\n",
    "import joblib\n",
    "from flask import Flask, request, jsonify"
   ]
  },
  {
   "cell_type": "code",
   "execution_count": 5,
   "metadata": {},
   "outputs": [],
   "source": [
    "# Step 1: Load the Dataset\n",
    "data_path = \"AI_ML_Internship_Problems.csv\" \n",
    "data = pd.read_csv(data_path)"
   ]
  },
  {
   "cell_type": "code",
   "execution_count": 6,
   "metadata": {},
   "outputs": [
    {
     "name": "stdout",
     "output_type": "stream",
     "text": [
      "Missing Values:\n",
      "Shipment ID                0\n",
      "Origin                     0\n",
      "Destination                0\n",
      "Shipment Date              0\n",
      "Planned Delivery Date      0\n",
      "Actual Delivery Date       0\n",
      "Vehicle Type             597\n",
      "Distance (km)              0\n",
      "Weather Conditions         0\n",
      "Traffic Conditions         0\n",
      "Delayed                    0\n",
      "dtype: int64\n"
     ]
    }
   ],
   "source": [
    "# Step 2: Data Cleaning\n",
    "# Check for missing values\n",
    "print(\"Missing Values:\")\n",
    "print(data.isnull().sum())"
   ]
  },
  {
   "cell_type": "code",
   "execution_count": 7,
   "metadata": {},
   "outputs": [
    {
     "name": "stdout",
     "output_type": "stream",
     "text": [
      "Null values after cleaning:\n",
      "Shipment ID              0\n",
      "Origin                   0\n",
      "Destination              0\n",
      "Shipment Date            0\n",
      "Planned Delivery Date    0\n",
      "Actual Delivery Date     0\n",
      "Vehicle Type             0\n",
      "Distance (km)            0\n",
      "Weather Conditions       0\n",
      "Traffic Conditions       0\n",
      "Delayed                  0\n",
      "dtype: int64\n"
     ]
    }
   ],
   "source": [
    "# Handle missing values (example: drop rows with missing values)\n",
    "data_cleaned = data.dropna().copy()  # Add .copy() to ensure it's a separate object\n",
    "# Verify if null values are dropped\n",
    "print(\"Null values after cleaning:\")\n",
    "print(data_cleaned.isnull().sum())"
   ]
  },
  {
   "cell_type": "code",
   "execution_count": 8,
   "metadata": {},
   "outputs": [
    {
     "name": "stdout",
     "output_type": "stream",
     "text": [
      "  Vehicle Type  Distance (km) Weather Conditions Traffic Conditions Delayed\n",
      "0      Trailer           1603               Rain              Light     Yes\n",
      "1      Trailer           1237              Storm           Moderate     Yes\n",
      "2        Truck           1863              Clear              Light      No\n",
      "3    Container           1374              Clear              Light      No\n",
      "4    Container            676              Clear              Heavy     Yes\n"
     ]
    }
   ],
   "source": [
    "# Drop the unwanted columns\n",
    "data_cleaned = data_cleaned.drop(columns=['Shipment ID', 'Origin', 'Destination', 'Shipment Date', 'Planned Delivery Date', 'Actual Delivery Date'])\n",
    "print(data_cleaned.head())"
   ]
  },
  {
   "cell_type": "code",
   "execution_count": 9,
   "metadata": {},
   "outputs": [
    {
     "name": "stdout",
     "output_type": "stream",
     "text": [
      "  Vehicle Type  Distance (km) Weather Conditions Traffic Conditions Delayed\n",
      "0      Trailer           1603               Rain              Light     Yes\n",
      "1      Trailer           1237              Storm           Moderate     Yes\n",
      "2        Truck           1863              Clear              Light      No\n",
      "3    Container           1374              Clear              Light      No\n",
      "4    Container            676              Clear              Heavy     Yes\n"
     ]
    }
   ],
   "source": [
    "# Remove duplicates\n",
    "data_cleaned = data_cleaned.drop_duplicates()\n",
    "# Verify the cleaned data\n",
    "print(data_cleaned.head())"
   ]
  },
  {
   "cell_type": "code",
   "execution_count": 10,
   "metadata": {},
   "outputs": [
    {
     "name": "stdout",
     "output_type": "stream",
     "text": [
      "Number of duplicate rows: 0\n"
     ]
    }
   ],
   "source": [
    "# Check for duplicate rows\n",
    "duplicates = data_cleaned.duplicated().sum()\n",
    "print(f\"Number of duplicate rows: {duplicates}\")\n",
    "data_cleaned = data_cleaned.drop_duplicates()"
   ]
  },
  {
   "cell_type": "code",
   "execution_count": 11,
   "metadata": {},
   "outputs": [
    {
     "name": "stdout",
     "output_type": "stream",
     "text": [
      "\n",
      "Summary Statistics:\n",
      "       Distance (km)\n",
      "count   15909.000000\n",
      "mean     1099.611226\n",
      "std       521.498972\n",
      "min       200.000000\n",
      "25%       646.000000\n",
      "50%      1097.000000\n",
      "75%      1551.000000\n",
      "max      2000.000000\n"
     ]
    }
   ],
   "source": [
    "# Step 3: Exploratory Data Analysis (EDA)\n",
    "# Summary statistics\n",
    "print(\"\\nSummary Statistics:\")\n",
    "print(data_cleaned.describe())"
   ]
  },
  {
   "cell_type": "code",
   "execution_count": 12,
   "metadata": {},
   "outputs": [
    {
     "name": "stdout",
     "output_type": "stream",
     "text": [
      "  Vehicle Type Distance (km) Weather Conditions Traffic Conditions Delayed\n",
      "0      Trailer             3               Rain              Light     Yes\n",
      "1      Trailer             2              Storm           Moderate     Yes\n",
      "2        Truck             3              Clear              Light      No\n",
      "3    Container             2              Clear              Light      No\n",
      "4    Container             1              Clear              Heavy     Yes\n"
     ]
    }
   ],
   "source": [
    "# Define the bins for the distance ranges\n",
    "bins = [0, 500, 1000, 1500, 2000]\n",
    "# Define the labels for each bin\n",
    "labels = [0, 1, 2, 3]\n",
    "# Apply encoding using pd.cut()\n",
    "data_cleaned['Distance (km)'] = pd.cut(data_cleaned['Distance (km)'], bins=bins, labels=labels, right=True)\n",
    "print(data_cleaned.head())"
   ]
  },
  {
   "cell_type": "code",
   "execution_count": 13,
   "metadata": {},
   "outputs": [
    {
     "name": "stdout",
     "output_type": "stream",
     "text": [
      "   Vehicle Type Distance (km)  Weather Conditions  Traffic Conditions  Delayed\n",
      "0             2             3                   1                   0        0\n",
      "1             2             2                   3                   1        0\n",
      "2             1             3                   0                   0        1\n",
      "3             3             2                   0                   0        1\n",
      "4             3             1                   0                   2        0\n"
     ]
    }
   ],
   "source": [
    "# Define mappings for encoding\n",
    "vehicle_mapping = {'Lorry': 0, 'Truck': 1, 'Trailer': 2, 'Container': 3}\n",
    "weather_mapping = {'Clear': 0, 'Rain': 1, 'Fog': 2, 'Storm': 3}\n",
    "traffic_mapping = {'Light': 0, 'Moderate': 1, 'Heavy': 2}\n",
    "delayed_mapping = {'Yes': 0, 'No': 1}\n",
    "\n",
    "# print(data_cleaned['Vehicle Type'].unique())\n",
    "# print(data_cleaned['Weather Conditions'].unique())\n",
    "# print(data_cleaned['Traffic Conditions'].unique())\n",
    "# print(data_cleaned['Delayed'].unique())\n",
    "\n",
    "\n",
    "\n",
    "data_cleaned['Vehicle Type'] = data_cleaned['Vehicle Type'].map(vehicle_mapping)\n",
    "data_cleaned['Weather Conditions'] = data_cleaned['Weather Conditions'].map(weather_mapping)\n",
    "data_cleaned['Traffic Conditions'] = data_cleaned['Traffic Conditions'].map(traffic_mapping)\n",
    "data_cleaned['Delayed'] = data_cleaned['Delayed'].map(delayed_mapping)\n",
    "\n",
    "print(data_cleaned.head())"
   ]
  },
  {
   "cell_type": "code",
   "execution_count": 14,
   "metadata": {},
   "outputs": [
    {
     "data": {
      "image/png": "[encoded data removed]",
      "text/plain": [
       "<Figure size 640x480 with 1 Axes>"
      ]
     },
     "metadata": {},
     "output_type": "display_data"
    }
   ],
   "source": [
    "# Distribution of the target variable\n",
    "sns.countplot(data=data_cleaned, x='Delayed', hue='Delayed', palette='coolwarm', legend=False)\n",
    "plt.title('Distribution of Delayed Shipments')\n",
    "plt.show()"
   ]
  },
  {
   "cell_type": "code",
   "execution_count": 15,
   "metadata": {},
   "outputs": [
    {
     "data": {
      "image/png": "[encoded data removed]",
      "text/plain": [
       "<Figure size 640x480 with 1 Axes>"
      ]
     },
     "metadata": {},
     "output_type": "display_data"
    }
   ],
   "source": [
    "# Relationship between Distance and Delay\n",
    "sns.boxplot(x='Delayed', y='Distance (km)', data=data_cleaned, palette='coolwarm', hue='Delayed', legend=True)\n",
    "plt.title('Distance vs Delay')\n",
    "plt.show()"
   ]
  },
  {
   "cell_type": "code",
   "execution_count": 16,
   "metadata": {},
   "outputs": [
    {
     "data": {
      "image/png": "[encoded data removed]",
      "text/plain": [
       "<Figure size 640x480 with 1 Axes>"
      ]
     },
     "metadata": {},
     "output_type": "display_data"
    }
   ],
   "source": [
    "# Analyze Vehicle Type vs Delay\n",
    "sns.countplot(data=data_cleaned, x='Vehicle Type', hue='Delayed', palette='coolwarm')\n",
    "plt.title('Vehicle Type vs Delay')\n",
    "plt.show()"
   ]
  },
  {
   "cell_type": "code",
   "execution_count": 17,
   "metadata": {},
   "outputs": [
    {
     "data": {
      "image/png": "[encoded data removed]",
      "text/plain": [
       "<Figure size 640x480 with 2 Axes>"
      ]
     },
     "metadata": {},
     "output_type": "display_data"
    }
   ],
   "source": [
    "# Correlation Matrix (for numerical features)\n",
    "numerical_features = ['Distance (km)']\n",
    "correlation_matrix = data_cleaned[numerical_features + ['Delayed']].apply(lambda x: pd.factorize(x)[0]).corr()\n",
    "\n",
    "sns.heatmap(correlation_matrix, annot=True, cmap='coolwarm', fmt='.2f')\n",
    "plt.title('Correlation Matrix')\n",
    "plt.show()"
   ]
  },
  {
   "cell_type": "code",
   "execution_count": 18,
   "metadata": {},
   "outputs": [
    {
     "name": "stdout",
     "output_type": "stream",
     "text": [
      "Cleaned data saved to 'cleaned_data.csv'.\n",
      "   Vehicle Type Distance (km)  Weather Conditions  Traffic Conditions  Delayed\n",
      "0             2             3                   1                   0        0\n",
      "1             2             2                   3                   1        0\n",
      "2             1             3                   0                   0        1\n",
      "3             3             2                   0                   0        1\n",
      "4             3             1                   0                   2        0\n"
     ]
    }
   ],
   "source": [
    "# Save cleaned data for model development\n",
    "data_cleaned.to_csv(\"cleaned_data.csv\", index=False)\n",
    "print(\"Cleaned data saved to 'cleaned_data.csv'.\")\n",
    "print(data_cleaned.head())\n",
    "\n"
   ]
  },
  {
   "cell_type": "code",
   "execution_count": 19,
   "metadata": {},
   "outputs": [],
   "source": [
    "# Split the dataset\n",
    "X = data_cleaned.drop(['Delayed'], axis=1)\n",
    "y = data_cleaned['Delayed']\n",
    "X_train, X_test, y_train, y_test = train_test_split(X, y, test_size=0.2, random_state=42)\n"
   ]
  },
  {
   "cell_type": "code",
   "execution_count": 20,
   "metadata": {},
   "outputs": [],
   "source": [
    "# Experiment with Logistic Regression\n",
    "logistic_model = LogisticRegression()\n",
    "logistic_model.fit(X_train, y_train)\n",
    "y_pred_logistic = logistic_model.predict(X_test)"
   ]
  },
  {
   "cell_type": "code",
   "execution_count": 21,
   "metadata": {},
   "outputs": [],
   "source": [
    "# Experiment with Decision Tree\n",
    "decision_tree_model = DecisionTreeClassifier()\n",
    "decision_tree_model.fit(X_train, y_train)\n",
    "y_pred_tree = decision_tree_model.predict(X_test)"
   ]
  },
  {
   "cell_type": "code",
   "execution_count": 22,
   "metadata": {},
   "outputs": [
    {
     "name": "stdout",
     "output_type": "stream",
     "text": [
      "   Vehicle Type Distance (km)  Weather Conditions  Traffic Conditions  Delayed\n",
      "0             2             3                   1                   0        0\n",
      "1             2             2                   3                   1        0\n",
      "2             1             3                   0                   0        1\n",
      "3             3             2                   0                   0        1\n",
      "4             3             1                   0                   2        0\n"
     ]
    }
   ],
   "source": [
    "# Experiment with Random Forest\n",
    "random_forest_model = RandomForestClassifier()\n",
    "random_forest_model.fit(X_train, y_train)\n",
    "y_pred_forest = random_forest_model.predict(X_test)\n",
    "print(data_cleaned.head())\n"
   ]
  },
  {
   "cell_type": "code",
   "execution_count": 24,
   "metadata": {},
   "outputs": [
    {
     "name": "stdout",
     "output_type": "stream",
     "text": [
      "Evaluation for Logistic Regression\n",
      "Accuracy: 0.9063482086737901\n",
      "Precision: 0.7142857142857143\n",
      "Recall: 1.0\n",
      "F1 Score: 0.8333333333333333\n",
      "\n",
      "\n",
      "Evaluation for Decision Tree\n",
      "Accuracy: 0.9063482086737901\n",
      "Precision: 0.7142857142857143\n",
      "Recall: 1.0\n",
      "F1 Score: 0.8333333333333333\n",
      "\n",
      "\n",
      "Evaluation for Random Forest\n",
      "Accuracy: 0.9063482086737901\n",
      "Precision: 0.7142857142857143\n",
      "Recall: 1.0\n",
      "F1 Score: 0.8333333333333333\n",
      "\n",
      "\n"
     ]
    }
   ],
   "source": [
    "# Evaluate Models\n",
    "def evaluate_model(y_test, y_pred, model_name):\n",
    "    print(f\"Evaluation for {model_name}\")\n",
    "    print(\"Accuracy:\", accuracy_score(y_test, y_pred))\n",
    "    print(\"Precision:\", precision_score(y_test, y_pred))\n",
    "    print(\"Recall:\", recall_score(y_test, y_pred))\n",
    "    print(\"F1 Score:\", f1_score(y_test, y_pred))\n",
    "    print(\"\\n\")\n",
    "\n",
    "if 'y_pred_logistic' in locals():\n",
    "    evaluate_model(y_test, y_pred_logistic, \"Logistic Regression\")\n",
    "    evaluate_model(y_test, y_pred_tree, \"Decision Tree\")\n",
    "    evaluate_model(y_test, y_pred_forest, \"Random Forest\")"
   ]
  },
  {
   "cell_type": "code",
   "execution_count": 25,
   "metadata": {},
   "outputs": [
    {
     "data": {
      "text/plain": [
       "['shipment_delay_model.pkl']"
      ]
     },
     "execution_count": 25,
     "metadata": {},
     "output_type": "execute_result"
    }
   ],
   "source": [
    "# Save the best model\n",
    "best_model = random_forest_model  # Assuming Random Forest performed best\n",
    "joblib.dump(best_model, 'shipment_delay_model.pkl')"
   ]
  },
  {
   "cell_type": "code",
   "execution_count": 26,
   "metadata": {},
   "outputs": [
    {
     "name": "stdout",
     "output_type": "stream",
     "text": [
      "No\n"
     ]
    }
   ],
   "source": [
    "def predict():\n",
    "    data = {\n",
    "    \"Vehicle Type\": 1,\n",
    "    \"Distance (km)\": 2,\n",
    "    \"Weather Conditions\": 3,\n",
    "    \"Traffic Conditions\": 2\n",
    "    }\n",
    "    input_data = pd.DataFrame([data])\n",
    "    for col in ['Vehicle Type', 'Distance (km)', 'Weather Conditions', 'Traffic Conditions']:\n",
    "        if col in input_data:\n",
    "            input_data[col] = pd.factorize(data_cleaned[col])[0][input_data[col]]\n",
    "    prediction = best_model.predict(input_data)[0]\n",
    "    if prediction == 1: print('Yes')\n",
    "    else: print('No')\n",
    "predict()"
   ]
  }
 ],
 "metadata": {
  "kernelspec": {
   "display_name": "Python 3",
   "language": "python",
   "name": "python3"
  },
  "language_info": {
   "codemirror_mode": {
    "name": "ipython",
    "version": 3
   },
   "file_extension": ".py",
   "mimetype": "text/x-python",
   "name": "python",
   "nbconvert_exporter": "python",
   "pygments_lexer": "ipython3",
   "version": "3.10.7"
  },
  "orig_nbformat": 4
 },
 "nbformat": 4,
 "nbformat_minor": 2
}
